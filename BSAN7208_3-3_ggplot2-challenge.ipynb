{
 "cells": [
  {
   "cell_type": "markdown",
   "id": "a9ac0445",
   "metadata": {},
   "source": [
    "## Module 3.3 ggplot2 challenge\n",
    "\n",
    "Use this live notebook to write and run your visualisation code.\n",
    "\n",
    "You an add extra cells with the \"Insert\" menu, and run the code in the active cell with the \"Run\" button.\n",
    "\n",
    "### Instructions\n",
    "\n",
    "1. Load the ggplot2 package\n",
    "2. Familiarise yourself with the fuel efficiency dataset `mpg` (open its documentation with the command `?mpg`)\n",
    "3. Visualise the relationship between engine size and fuel efficiency on the highway with a scatterplot\n",
    "4. Add a trend line\n",
    "5. Colour the points according to the type of car (but make sure you still end up with one single trend line)\n",
    "6. Change the shape of the points according to the type of drive\n",
    "7. Split the visualisation into two panels, one for each year"
   ]
  },
  {
   "cell_type": "code",
   "execution_count": null,
   "id": "c3fe4569",
   "metadata": {},
   "outputs": [],
   "source": [
    "library(...)"
   ]
  },
  {
   "cell_type": "code",
   "execution_count": null,
   "id": "0ec98096",
   "metadata": {},
   "outputs": [],
   "source": [
    "ggplot(...) +\n",
    "    geom_...(...) +\n",
    "    ..."
   ]
  }
 ],
 "metadata": {
  "kernelspec": {
   "display_name": "Python 3 (ipykernel)",
   "language": "python",
   "name": "python3"
  },
  "language_info": {
   "codemirror_mode": {
    "name": "ipython",
    "version": 3
   },
   "file_extension": ".py",
   "mimetype": "text/x-python",
   "name": "python",
   "nbconvert_exporter": "python",
   "pygments_lexer": "ipython3",
   "version": "3.9.7"
  }
 },
 "nbformat": 4,
 "nbformat_minor": 5
}
